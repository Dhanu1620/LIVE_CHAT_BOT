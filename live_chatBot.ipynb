{
  "nbformat": 4,
  "nbformat_minor": 0,
  "metadata": {
    "colab": {
      "provenance": [],
      "authorship_tag": "ABX9TyOO0cyjP1KjtwUS8Ten8zv2",
      "include_colab_link": true
    },
    "kernelspec": {
      "name": "python3",
      "display_name": "Python 3"
    },
    "language_info": {
      "name": "python"
    }
  },
  "cells": [
    {
      "cell_type": "markdown",
      "metadata": {
        "id": "view-in-github",
        "colab_type": "text"
      },
      "source": [
        "<a href=\"https://colab.research.google.com/github/Dhanu1620/LIVE_CHAT_BOT/blob/main/live_chatBot.ipynb\" target=\"_parent\"><img src=\"https://colab.research.google.com/assets/colab-badge.svg\" alt=\"Open In Colab\"/></a>"
      ]
    },
    {
      "cell_type": "code",
      "execution_count": 1,
      "metadata": {
        "colab": {
          "base_uri": "https://localhost:8080/"
        },
        "id": "aPucv8JkdPBS",
        "outputId": "f191e96e-c4ee-4a02-c1ac-7757fc66a292"
      },
      "outputs": [
        {
          "output_type": "stream",
          "name": "stdout",
          "text": [
            "Requirement already satisfied: nltk in /usr/local/lib/python3.10/dist-packages (3.8.1)\n",
            "Requirement already satisfied: click in /usr/local/lib/python3.10/dist-packages (from nltk) (8.1.7)\n",
            "Requirement already satisfied: joblib in /usr/local/lib/python3.10/dist-packages (from nltk) (1.4.2)\n",
            "Requirement already satisfied: regex>=2021.8.3 in /usr/local/lib/python3.10/dist-packages (from nltk) (2024.9.11)\n",
            "Requirement already satisfied: tqdm in /usr/local/lib/python3.10/dist-packages (from nltk) (4.66.6)\n"
          ]
        }
      ],
      "source": [
        "pip install nltk\n"
      ]
    },
    {
      "cell_type": "code",
      "source": [
        "pip install newspaper3k"
      ],
      "metadata": {
        "colab": {
          "base_uri": "https://localhost:8080/"
        },
        "id": "GzmaezlhdYLw",
        "outputId": "40f54ab2-5086-4a9b-b1de-af7072ea2919"
      },
      "execution_count": 2,
      "outputs": [
        {
          "output_type": "stream",
          "name": "stdout",
          "text": [
            "Collecting newspaper3k\n",
            "  Downloading newspaper3k-0.2.8-py3-none-any.whl.metadata (11 kB)\n",
            "Requirement already satisfied: beautifulsoup4>=4.4.1 in /usr/local/lib/python3.10/dist-packages (from newspaper3k) (4.12.3)\n",
            "Requirement already satisfied: Pillow>=3.3.0 in /usr/local/lib/python3.10/dist-packages (from newspaper3k) (10.4.0)\n",
            "Requirement already satisfied: PyYAML>=3.11 in /usr/local/lib/python3.10/dist-packages (from newspaper3k) (6.0.2)\n",
            "Collecting cssselect>=0.9.2 (from newspaper3k)\n",
            "  Downloading cssselect-1.2.0-py2.py3-none-any.whl.metadata (2.2 kB)\n",
            "Requirement already satisfied: lxml>=3.6.0 in /usr/local/lib/python3.10/dist-packages (from newspaper3k) (5.3.0)\n",
            "Requirement already satisfied: nltk>=3.2.1 in /usr/local/lib/python3.10/dist-packages (from newspaper3k) (3.8.1)\n",
            "Requirement already satisfied: requests>=2.10.0 in /usr/local/lib/python3.10/dist-packages (from newspaper3k) (2.32.3)\n",
            "Collecting feedparser>=5.2.1 (from newspaper3k)\n",
            "  Downloading feedparser-6.0.11-py3-none-any.whl.metadata (2.4 kB)\n",
            "Collecting tldextract>=2.0.1 (from newspaper3k)\n",
            "  Downloading tldextract-5.1.3-py3-none-any.whl.metadata (11 kB)\n",
            "Collecting feedfinder2>=0.0.4 (from newspaper3k)\n",
            "  Downloading feedfinder2-0.0.4.tar.gz (3.3 kB)\n",
            "  Preparing metadata (setup.py) ... \u001b[?25l\u001b[?25hdone\n",
            "Collecting jieba3k>=0.35.1 (from newspaper3k)\n",
            "  Downloading jieba3k-0.35.1.zip (7.4 MB)\n",
            "\u001b[2K     \u001b[90m━━━━━━━━━━━━━━━━━━━━━━━━━━━━━━━━━━━━━━━━\u001b[0m \u001b[32m7.4/7.4 MB\u001b[0m \u001b[31m51.4 MB/s\u001b[0m eta \u001b[36m0:00:00\u001b[0m\n",
            "\u001b[?25h  Preparing metadata (setup.py) ... \u001b[?25l\u001b[?25hdone\n",
            "Requirement already satisfied: python-dateutil>=2.5.3 in /usr/local/lib/python3.10/dist-packages (from newspaper3k) (2.8.2)\n",
            "Collecting tinysegmenter==0.3 (from newspaper3k)\n",
            "  Downloading tinysegmenter-0.3.tar.gz (16 kB)\n",
            "  Preparing metadata (setup.py) ... \u001b[?25l\u001b[?25hdone\n",
            "Requirement already satisfied: soupsieve>1.2 in /usr/local/lib/python3.10/dist-packages (from beautifulsoup4>=4.4.1->newspaper3k) (2.6)\n",
            "Requirement already satisfied: six in /usr/local/lib/python3.10/dist-packages (from feedfinder2>=0.0.4->newspaper3k) (1.16.0)\n",
            "Collecting sgmllib3k (from feedparser>=5.2.1->newspaper3k)\n",
            "  Downloading sgmllib3k-1.0.0.tar.gz (5.8 kB)\n",
            "  Preparing metadata (setup.py) ... \u001b[?25l\u001b[?25hdone\n",
            "Requirement already satisfied: click in /usr/local/lib/python3.10/dist-packages (from nltk>=3.2.1->newspaper3k) (8.1.7)\n",
            "Requirement already satisfied: joblib in /usr/local/lib/python3.10/dist-packages (from nltk>=3.2.1->newspaper3k) (1.4.2)\n",
            "Requirement already satisfied: regex>=2021.8.3 in /usr/local/lib/python3.10/dist-packages (from nltk>=3.2.1->newspaper3k) (2024.9.11)\n",
            "Requirement already satisfied: tqdm in /usr/local/lib/python3.10/dist-packages (from nltk>=3.2.1->newspaper3k) (4.66.6)\n",
            "Requirement already satisfied: charset-normalizer<4,>=2 in /usr/local/lib/python3.10/dist-packages (from requests>=2.10.0->newspaper3k) (3.4.0)\n",
            "Requirement already satisfied: idna<4,>=2.5 in /usr/local/lib/python3.10/dist-packages (from requests>=2.10.0->newspaper3k) (3.10)\n",
            "Requirement already satisfied: urllib3<3,>=1.21.1 in /usr/local/lib/python3.10/dist-packages (from requests>=2.10.0->newspaper3k) (2.2.3)\n",
            "Requirement already satisfied: certifi>=2017.4.17 in /usr/local/lib/python3.10/dist-packages (from requests>=2.10.0->newspaper3k) (2024.8.30)\n",
            "Collecting requests-file>=1.4 (from tldextract>=2.0.1->newspaper3k)\n",
            "  Downloading requests_file-2.1.0-py2.py3-none-any.whl.metadata (1.7 kB)\n",
            "Requirement already satisfied: filelock>=3.0.8 in /usr/local/lib/python3.10/dist-packages (from tldextract>=2.0.1->newspaper3k) (3.16.1)\n",
            "Downloading newspaper3k-0.2.8-py3-none-any.whl (211 kB)\n",
            "\u001b[2K   \u001b[90m━━━━━━━━━━━━━━━━━━━━━━━━━━━━━━━━━━━━━━━━\u001b[0m \u001b[32m211.1/211.1 kB\u001b[0m \u001b[31m14.1 MB/s\u001b[0m eta \u001b[36m0:00:00\u001b[0m\n",
            "\u001b[?25hDownloading cssselect-1.2.0-py2.py3-none-any.whl (18 kB)\n",
            "Downloading feedparser-6.0.11-py3-none-any.whl (81 kB)\n",
            "\u001b[2K   \u001b[90m━━━━━━━━━━━━━━━━━━━━━━━━━━━━━━━━━━━━━━━━\u001b[0m \u001b[32m81.3/81.3 kB\u001b[0m \u001b[31m6.2 MB/s\u001b[0m eta \u001b[36m0:00:00\u001b[0m\n",
            "\u001b[?25hDownloading tldextract-5.1.3-py3-none-any.whl (104 kB)\n",
            "\u001b[2K   \u001b[90m━━━━━━━━━━━━━━━━━━━━━━━━━━━━━━━━━━━━━━━━\u001b[0m \u001b[32m104.9/104.9 kB\u001b[0m \u001b[31m7.2 MB/s\u001b[0m eta \u001b[36m0:00:00\u001b[0m\n",
            "\u001b[?25hDownloading requests_file-2.1.0-py2.py3-none-any.whl (4.2 kB)\n",
            "Building wheels for collected packages: tinysegmenter, feedfinder2, jieba3k, sgmllib3k\n",
            "  Building wheel for tinysegmenter (setup.py) ... \u001b[?25l\u001b[?25hdone\n",
            "  Created wheel for tinysegmenter: filename=tinysegmenter-0.3-py3-none-any.whl size=13539 sha256=b310c28ab510e673b66f1503309fc1377a34ae13451457fab4150ef8344528bc\n",
            "  Stored in directory: /root/.cache/pip/wheels/c8/d6/6c/384f58df48c00b9a31d638005143b5b3ac62c3d25fb1447f23\n",
            "  Building wheel for feedfinder2 (setup.py) ... \u001b[?25l\u001b[?25hdone\n",
            "  Created wheel for feedfinder2: filename=feedfinder2-0.0.4-py3-none-any.whl size=3342 sha256=34f840c3d79f112939b21fb0501e44f44d365cdf5bab14b8552e2588fb1bc439\n",
            "  Stored in directory: /root/.cache/pip/wheels/97/02/e7/a1ff1760e12bdbaab0ac824fae5c1bc933e41c4ccd6a8f8edb\n",
            "  Building wheel for jieba3k (setup.py) ... \u001b[?25l\u001b[?25hdone\n",
            "  Created wheel for jieba3k: filename=jieba3k-0.35.1-py3-none-any.whl size=7398379 sha256=fa10066cd9c6a27e1093fb697c35dce28a0ce262be95a03b86ecff275a1d32fe\n",
            "  Stored in directory: /root/.cache/pip/wheels/7a/c4/0c/12a9a314ecac499456c4c3b2fcc2f635a3b45a39dfbd240299\n",
            "  Building wheel for sgmllib3k (setup.py) ... \u001b[?25l\u001b[?25hdone\n",
            "  Created wheel for sgmllib3k: filename=sgmllib3k-1.0.0-py3-none-any.whl size=6047 sha256=cba920e67ba803b2c486efaeea55f338941af4c700b70f313daa74eccd619287\n",
            "  Stored in directory: /root/.cache/pip/wheels/f0/69/93/a47e9d621be168e9e33c7ce60524393c0b92ae83cf6c6e89c5\n",
            "Successfully built tinysegmenter feedfinder2 jieba3k sgmllib3k\n",
            "Installing collected packages: tinysegmenter, sgmllib3k, jieba3k, feedparser, cssselect, requests-file, feedfinder2, tldextract, newspaper3k\n",
            "Successfully installed cssselect-1.2.0 feedfinder2-0.0.4 feedparser-6.0.11 jieba3k-0.35.1 newspaper3k-0.2.8 requests-file-2.1.0 sgmllib3k-1.0.0 tinysegmenter-0.3 tldextract-5.1.3\n"
          ]
        }
      ]
    },
    {
      "source": [
        "!pip install lxml_html_clean"
      ],
      "cell_type": "code",
      "metadata": {
        "colab": {
          "base_uri": "https://localhost:8080/"
        },
        "id": "Uxy9XYZQe3ac",
        "outputId": "ea78fe5e-8d01-4085-d0e7-6c301fc465a6"
      },
      "execution_count": 5,
      "outputs": [
        {
          "output_type": "stream",
          "name": "stdout",
          "text": [
            "Collecting lxml_html_clean\n",
            "  Downloading lxml_html_clean-0.3.1-py3-none-any.whl.metadata (2.4 kB)\n",
            "Requirement already satisfied: lxml in /usr/local/lib/python3.10/dist-packages (from lxml_html_clean) (5.3.0)\n",
            "Downloading lxml_html_clean-0.3.1-py3-none-any.whl (13 kB)\n",
            "Installing collected packages: lxml_html_clean\n",
            "Successfully installed lxml_html_clean-0.3.1\n"
          ]
        }
      ]
    },
    {
      "source": [
        "from newspaper import Article\n",
        "import random\n",
        "import string\n",
        "import nltk\n",
        "from sklearn.feature_extraction.text import CountVectorizer\n",
        "from sklearn.metrics.pairwise import cosine_similarity # Changed 'cousine_similarity' to 'cosine_similarity'\n",
        "import numpy as np\n",
        "import warnings\n",
        "warnings.filterwarnings('ignore')"
      ],
      "cell_type": "code",
      "metadata": {
        "id": "Oxz7IBKFfH6M"
      },
      "execution_count": 7,
      "outputs": []
    },
    {
      "source": [
        "nltk.download('punkt', quiet=True) # Corrected the function name to 'download' and the parameter name to 'quiet'\n"
      ],
      "cell_type": "code",
      "metadata": {
        "colab": {
          "base_uri": "https://localhost:8080/"
        },
        "id": "illLHVJ7fRz0",
        "outputId": "eb0cd7c7-9bec-4640-a9ff-a00af388785e"
      },
      "execution_count": 9,
      "outputs": [
        {
          "output_type": "execute_result",
          "data": {
            "text/plain": [
              "True"
            ]
          },
          "metadata": {},
          "execution_count": 9
        }
      ]
    },
    {
      "cell_type": "code",
      "source": [
        "article = Article('https://www.mayoclinic.org/diseases-conditions/chronic-kidney-disease/symptoms-causes/syc-20354521')\n",
        "article.download()\n",
        "article.parse()\n",
        "article.nlp()\n",
        "corpus = article.text"
      ],
      "metadata": {
        "id": "6qIc6bv6fuFg"
      },
      "execution_count": 18,
      "outputs": []
    },
    {
      "cell_type": "code",
      "source": [
        "print(corpus)"
      ],
      "metadata": {
        "colab": {
          "base_uri": "https://localhost:8080/"
        },
        "id": "YPZ7es5rg5BQ",
        "outputId": "3dffacd5-9e6f-4b0f-a056-0b26f49ba8ae"
      },
      "execution_count": 19,
      "outputs": [
        {
          "output_type": "stream",
          "name": "stdout",
          "text": [
            "I'm Dr. Andrew Bentall, a kidney doctor at Mayo Clinic. I look after patients with kidney disease, either in the early stages, or with more advanced kidney disease considering dialysis and transplantation as treatment options. In this video, we'll cover the basics of chronic kidney disease. What is it? Who gets it? The symptoms, diagnosis and treatment. Whether you are looking for answers for yourself or for someone you love, we're here to give you the best information available.\n",
            "\n",
            "Chronic kidney disease is a disease characterized by progressive damage and loss of function in the kidneys. It's estimated that chronic kidney disease affects about one in seven American adults. And most of those don't know they have it. Before we get into the disease itself, let's talk a little bit about the kidneys and what they do. Our kidneys play many important roles keeping our bodies in balance. They remove waste and toxins, excess water from the bloodstream, which is carried out of the body in urine. They helped to make hormones to produce red blood cells, and they turn vitamin D into its active form, so it's usable in the body.\n",
            "\n",
            "There are quite a few things that can cause or put you at higher risk for chronic kidney disease. Some of them are not things that can be avoided. Your risk is simply higher if you have a family history of certain genetic conditions like polycystic kidney disease or some autoimmune diseases like lupus or IgA nephropathy. Defects in the kidney structure can also cause your kidneys to fail, and you have an increased risk as you get older. Sometimes, other common medical conditions can increase your risk. Diabetes is the most common cause of kidney disease. Both type 1 and type 2 diabetes. But also heart disease and obesity can contribute to the damage that causes kidneys to fail. Urinary tract issues and inflammation in different parts of the kidney can also lead to long-term functional decline. There are things that are more under our control: Heavy or long-term use of certain medications, even those that are common over-the-counter. Smoking can also be a contributing factor to chronic kidney disease.\n",
            "\n",
            "Often there are no outward signs in the earlier stages of chronic kidney disease, which is grouped into stages 1 through 5. Generally, earlier stages are known as 1 to 3. And as kidney disease progresses, you may notice the following symptoms. Nausea and vomiting, muscle cramps, loss of appetite, swelling via feet and ankles, dry, itchy skin, shortness of breath, trouble sleeping, urinating either too much or too little. However, these are usually in the later stages, but they can also happen in other disorders. So don't automatically interpret this as having kidney disease. But if you're experiencing anything that concerns you, you should make an appointment with your doctor.\n",
            "\n",
            "Even before any symptoms appear, routine blood work can indicate that you might be in the early stages of chronic kidney disease. And the earlier it's detected, the easier it is to treat. This is why regular checkups with your doctor are important. If your doctor suspects the onset of chronic kidney disease, they may schedule a variety of other tests. They may also refer you to a kidney specialist, a nephrologist like myself. Urine tests can reveal abnormalities and give clues to the underlying cause of the chronic kidney disease. And this can also help to determine the underlying issues. Various imaging tests like ultrasounds or CT scans can be done to help your doctor assess the size, the structure, as well as evaluate the visible damage, inflammation or stones of your kidneys. And in some cases, a kidney biopsy may be necessary. And a small amount of tissue is taken with a needle and sent to the pathologist for further analysis.\n",
            "\n",
            "Treatment is determined by what is causing your kidneys to not function normally. Treating the cause is key, leading to reduced complications and slowing progression of kidney disease. For example, getting better blood pressure control, improved sugar control and diabetes, and reducing weight are often key interventions. However, existing damage is not usually reversible. In some conditions, treatment can reverse the cause of the disease. So seeking medical review is really important. Individual complications vary, but treatment might include high blood pressure medication, diuretics to reduce fluid and swelling, supplements to relieve anemia, statins to lower cholesterol, or medications to protect your bones and prevent blood vessel calcification. A lower-protein diet may also be recommended. It reduces the amount of waste your kidneys need to filter from your blood. These can not only slow the damage of kidney disease, but make you feel better as well. When the damage has progressed to the point that 85 to 90 percent of your kidney function is gone, and they no longer work well enough to keep you alive, it's called end-stage kidney failure. But there are still options. There's dialysis, which uses a machine to filter the toxins and remove water from your body as your kidneys are no longer able to do this. Where possible, the preferred therapy is a kidney transplant. While an organ transplant can sound daunting, it's actually often the better alternative, and the closest thing to a cure, if you qualify for a kidney transplant.\n",
            "\n",
            "If you have kidney disease, there are lifestyle choices. Namely quit smoking. Consuming alcohol in moderation. If you're overweight or obese, then try to lose weight. Staying active and getting exercise can help not only with your weight, but fatigue and stress. If your condition allows, keep up with your routine, whether that's working, hobbies, social activities, or other things you enjoy. It can be helpful to talk to someone you trust, a friend or relative who's good at listening. Or your doctor could also refer you to a therapist or social worker. It can also be helpful to find a support group and connect with people going through the same thing. Learning you have chronic kidney disease and learning how to live with it can be a challenge. But there are lots of ways to help you to be more comfortable for longer before more drastic measures are needed. And even then, there is plenty of hope. If you'd like to learn even more about chronic kidney disease, watch our other related videos or visit mayoclinic.org. We wish you well.\n"
          ]
        }
      ]
    },
    {
      "cell_type": "code",
      "source": [
        "test = corpus\n",
        "sentence_list = nltk.sent_tokenize(test) # Changed 'sent_tokenize' to 'sent_tokenize'"
      ],
      "metadata": {
        "id": "UcmmCJMjhwNr"
      },
      "execution_count": 21,
      "outputs": []
    },
    {
      "source": [
        "# Print the list of sentences\n",
        "print(sentence_list)"
      ],
      "cell_type": "code",
      "metadata": {
        "colab": {
          "base_uri": "https://localhost:8080/"
        },
        "id": "3MhDEntoiVX6",
        "outputId": "fcd19042-b1d6-462a-dde5-92ef7a18e583"
      },
      "execution_count": 20,
      "outputs": [
        {
          "output_type": "stream",
          "name": "stdout",
          "text": [
            "['For each health topic, you’ll find a “Basics” version, which provides essential facts, and an “In-Depth” version, which provides more details.', 'All of our health topic pages may be downloaded as a PDF, and can be printed or shared with others.', 'Please note that this information is not intended to answer specific questions about a particular problem or condition.', 'It should not be used for diagnostic or treatment purposes.', 'A\\n\\nAcne What is acne?', 'It is caused when blocked skin follicles from a plug caused by oil from glands, bacteria, and dead cells clump together and swell.', 'Alopecia Areata What is alopecia areata?', 'It is a condition that attacks your hair follicles (they make hair).', 'In most cases, hair falls out in small, round patches.', 'Ankylosing Spondylitis What is ankylosing spondylitis?', 'It is arthritis that affects the spine, usually producing redness, heat, swelling, and pain in the spine where it joins the pelvis.', 'Arthritis Arthritis is joint inflammation that can cause stiffness or pain.', 'Learn more about the symptoms & treatments.', 'Atopic Dermatitis What is atopic dermatitis?', 'It is a skin disease causing much itchiness.', 'Scratching leads to redness, swelling, cracking, weeping clear fluid, crusting, and scaling.', 'Autoimmune Diseases In autoimmune diseases, proteins known as autoantibodies target the body’s own healthy tissues by mistake, signaling the body to attack them.', 'B\\n\\nBack Pain Back pain is one of the most common medical problems in the United States.', 'It can range from a dull, constant ache to sudden, sharp pain that makes it hard to move.', 'Bone Health and Osteoporosis Why does bone health matter?', 'Learn more about what you can do to help keep your bones strong and healthy, what the risk factors are for osteoporosis, and how to live well if you have osteoporosis.', 'Bone Health and Osteoporosis: What It Means to You This resource contains information about osteoporosis and how you can help keep your bones strong.', 'Bone Mineral Density Tests: What the Numbers Mean What is a bone mineral density test?', 'A bone mineral density test measures calcium and other minerals in bone.', 'Bones containing more minerals are denser, so they tend to be stronger and less likely to break.', 'C\\n\\nCalcium and Vitamin D: Important for Bone Health The foods we eat contain a variety of vitamins, minerals, and other important nutrients that help keep our bodies healthy.', 'We need to get enough of two nutrients in particular, calcium and vitamin D, to help keep our bones strong.', 'Carpal Tunnel Syndrome Carpal tunnel syndrome occurs when the median nerve, which runs from your forearm, through your wrist, into the palm of your hand, becomes pressed or squeezed at the wrist.', 'Learn about causes and how to cope.', 'E\\n\\nEducational Resources for Students and Teachers NIAMS offers science-based classroom materials and activities for teachers to build accurate, age-appropriate lesson plans about bones, joints, muscles, and skin for students in grades 4, 5, and 6.', 'Epidermolysis Bullosa What is epidermolysis bullosa?', 'It is a group of diseases causing painful blisters to form on the skin.', 'These blisters can cause problems if they become infected.', 'Exercise for Your Bone Health As people get older, their risk of osteoporosis rises.', 'Osteoporosis is a disease that causes bones to become weak and brittle, which increases the risk of fractures (broken bones).', 'Exercise in adults and children of any age offers many benefits for bone.', \"F\\n\\nFibromyalgia Doctors don't yet know the exact causes of fibromyalgia.\", 'Find out more about this muscle-pain and fatigue causing chronic disorder.', 'Fibrous Dysplasia What is fibrous dysplasia?', 'It happens when healthy bone is replaced with other types of tissue.', 'Bones may become weak or oddly shaped, or they may even break.', 'G\\n\\nGout What is gout?', 'It is a kind of arthritis that causes painful and stiff joints.', 'Gout is caused by the build-up of crystals of uric acid in your joints.', 'Growth Plate Injuries Injuries to the growth plate happen when a break or fracture develops near or at the end of a long bone.', 'H\\n\\nHidradenitis Suppurativa (HS) Hidradenitis suppurativa (also known as acne inversa) is a chronic, noncontagious, inflammatory condition characterized by pimple-like bumps or boils and tunnels or tracts on and under the skin.', 'Hip Replacement Surgery Hip replacement surgery removes damaged or diseased parts of a hip joint and replaces them with new, artificial parts.', 'I\\n\\nIchthyosis What is ichthyosis?', 'It is a disorder that causes dry, thickened skin that may look similar to fish scales.', 'J\\n\\nJuvenile Idiopathic Arthritis (JIA) Juvenile arthritis describes arthritis in children.', 'Arthritis is caused by inflammation of the joints.', 'Find out all you need to know about juvenile arthritis.', 'Juvenile Osteoporosis Osteoporosis is a bone disease that develops when the bones get weaker and less dense.', 'When a child or teen develops osteoporosis, the condition is known as juvenile osteoporosis.', 'K\\n\\nKids and Their Bones Building healthy bones during childhood through healthy nutrition and lifestyle habits could help prevent or delay osteoporosis and fractures later in life.', 'M\\n\\nMarfan Syndrome What is Marfan syndrome?', 'It is a disorder that affects connective tissue, which supports many parts of your body.', 'Marfan syndrome is often a genetic disease.', 'O\\n\\nOsteoarthritis What is osteoarthritis?', 'It damages the slippery tissue that covers the ends of bones, causing bones to rub together, producing pain, swelling, and loss of motion.', 'Osteogenesis Imperfecta Osteogenesis imperfecta is a genetic disease, also called brittle bone disease, that causes bones to be weak and break easily.', 'Osteonecrosis What is osteonecrosis?', 'Osteonecrosis is a bone disease in which the bone begins to die and collapse.', 'Find out the symptoms and goals of treatment.', 'Osteopetrosis What is osteopetrosis?', 'It is a rare disorder that causes bones to grow abnormally and become too dense.', 'When this happens, bones can break easily.', 'Osteoporosis What is osteoporosis?', 'It is a disease in which your bones become weak and are more likely to break.', 'There are no symptoms until a bone breaks.', 'Osteoporosis in Men Because osteoporosis is more common in women than in men, it is often thought of as a women’s disease.', 'But some men, especially those age 65 and older, do develop osteoporosis.', 'P\\n\\nPachyonychia Congenita What is pachyonychia congenita?', 'It is a rare disorder causing thick nails and painful calluses on the bottoms of the feet and other symptoms.', 'Paget’s Disease of Bone What is Paget’s disease?', 'It is a disorder that causes bones to grow too large and weaken.', 'You can have Paget’s disease in any bones in your body.', 'Pemphigus What is pemphigus?', 'It is a disease where the immune system attacks healthy cells in the top layer of skin, resulting in blisters.', 'Polymyalgia Rheumatica and Giant Cell Arteritis Polymyalgia rheumatica and giant cell arteritis are closely linked inflammatory conditions.', 'PMR causes muscle pain and stiffness in the shoulders, upper arms, hip area, and neck.', 'GCA causes headaches, scalp tenderness, jaw pain, and eye problems.', 'Pregnancy, Breastfeeding, and Bone Health Temporary decreases in bone density are a normal part of pregnancy and breastfeeding.', 'However, bone density is typically restored after pregnancy and during/after weaning.', 'Preventing Another Broken Bone If you’re age 65 or older and have a broken bone, your doctor will probably do some testing to find out whether you have osteoporosis.', 'You can take steps to help prevent another broken bone.', 'Psoriasis Psoriasis is a skin disease that causes red, scaly skin that may feel painful, swollen, or hot.', 'Learn more about the types and what causes psoriasis.', 'Psoriatic Arthritis What is psoriatic arthritis?', 'It can occur in people who have psoriasis (scaly red and white patches).', 'It affects the joints and areas where tissues attach to bone.', 'R\\n\\nRaynaud’s Phenomenon What is Raynaud’s phenomenon?', 'It is a disease that affects blood vessels.', 'It causes your body to not send enough blood to the hands and feet for a period of time.', 'Reactive Arthritis What is reactive arthritis?', 'It is caused by an infection and results in joint pain and swelling.', 'You may also have red, swollen eyes and a swollen urinary tract.', 'Rheumatoid Arthritis What is rheumatoid arthritis?', 'It is a disease that affects multiple joints, resulting in pain, swelling, and stiffness.', 'Tiredness and fever may also be present.', 'Rosacea What is rosacea?', 'It is a long-term disease that causes reddened skin and pimples, usually on the face.', 'It can also make the skin thicker and cause eye problems.', 'S\\n\\nScleroderma Scleroderma causes areas of tight, hard skin, but can also harm your blood vessels and organs.', 'Learn the causes and treatments of this skin disease.', 'Scoliosis in Children and Teens What is scoliosis?', 'It is a disorder causing a sideways curve of the spine.', 'Curves are often S- or C-shaped.', 'In most people, there is no known cause for this curve.', 'Sjögren’s Disease What is Sjögren’s disease?', 'It is a disease that affects the glands that make moisture.', 'It most often causes dryness in the mouth and eyes.', 'Spinal Stenosis What is spinal stenosis?', 'It is the narrowing of the spine.', 'This narrowing puts pressure on the spinal cord and nerves and can cause pain.', 'Sports Injuries Sports injuries are injuries that happen when playing sports or exercising.', 'There are two kinds of sports injuries: acute and chronic.', \"Systemic Lupus Erythematosus (Lupus) Lupus is a disease where the body's defense system attacks healthy cells and tissues, causing damage to many parts of the body.\", 'Learn more about this disease.', 'V\\n\\nVitiligo Vitiligo is a disorder that causes patches of skin to become white.', 'It happens because cells that make color in your skin are destroyed.', 'W']\n"
          ]
        }
      ]
    },
    {
      "cell_type": "code",
      "source": [
        "def greeting_response(text):\n",
        "    text = text.lower()\n",
        "    bot_greetings = ['hello', 'hi', 'hey', 'howdy']\n",
        "    user_greetings = ['hi', 'hey', 'hello', 'greetings','wassup']\n",
        "    for word in text.split():\n",
        "        if word in user_greetings:\n",
        "            return random.choice(bot_greetings)\n",
        ""
      ],
      "metadata": {
        "id": "woBVcryyirsC"
      },
      "execution_count": 22,
      "outputs": []
    },
    {
      "cell_type": "code",
      "source": [
        "def index_sort(list_var):\n",
        "    length = len(list_var)\n",
        "    list_index = list(range(0, length))\n",
        "    x = list_var\n",
        "    for i in range(length):\n",
        "        for j in range(length):\n",
        "            if x[list_index[i]] > x[list_index[j]]:\n",
        "                temp = list_index[i]\n",
        "                list_index[i] = list_index[j]\n",
        "                list_index[j] = temp\n",
        "    return list_index"
      ],
      "metadata": {
        "id": "q2eDEm-fkFJT"
      },
      "execution_count": 23,
      "outputs": []
    },
    {
      "cell_type": "code",
      "source": [
        "def bot_response(user_input):\n",
        "    user_input = user_input.lower()\n",
        "    sentence_list.append(user_input)\n",
        "    bot_response = ''\n",
        "    cm = CountVectorizer().fit_transform(sentence_list)\n",
        "    similarity_scores = cosine_similarity(cm[-1], cm)\n",
        "    similarity_scores_list = similarity_scores.flatten()\n",
        "    index = index_sort(similarity_scores_list)\n",
        "    index = index[1:]\n",
        "    response_flag = 0\n",
        "    j = 0\n",
        "    for i in range(len(index)):\n",
        "        if similarity_scores_list[index[i]] > 0.0:\n",
        "            bot_response = bot_response+' '+sentence_list[index[i]]\n",
        "            response_flag = 1\n",
        "            j = j+1\n",
        "        if j > 2:\n",
        "            break\n",
        "    if response_flag == 0:\n",
        "        bot_response = bot_response+' '+\"I apologize, I don't understand.\"\n",
        "    sentence_list.remove(user_input)\n",
        "    return bot_response\n"
      ],
      "metadata": {
        "id": "HpSs_JLgjrCd"
      },
      "execution_count": 29,
      "outputs": []
    },
    {
      "cell_type": "code",
      "source": [
        "user_input = \"hello world\"\n",
        "sentence_list.append(user_input)\n",
        "bot_response = ''\n",
        "cm = CountVectorizer().fit_transform(sentence_list)\n",
        "similarity_scores = cosine_similarity(cm[-1], cm)\n",
        "similarity_scores_list = similarity_scores.flatten()\n",
        "index = index_sort(similarity_scores_list)"
      ],
      "metadata": {
        "id": "bD6CcwaXkoEK"
      },
      "execution_count": 26,
      "outputs": []
    },
    {
      "cell_type": "code",
      "source": [
        "similarity_scores_list"
      ],
      "metadata": {
        "colab": {
          "base_uri": "https://localhost:8080/"
        },
        "id": "iUAeI7xuk5s0",
        "outputId": "25c36e16-53bc-42de-e4e1-d78b6f479e1d"
      },
      "execution_count": 27,
      "outputs": [
        {
          "output_type": "execute_result",
          "data": {
            "text/plain": [
              "array([0., 0., 0., 0., 0., 0., 0., 0., 0., 0., 0., 0., 0., 0., 0., 0., 0.,\n",
              "       0., 0., 0., 0., 0., 0., 0., 0., 0., 0., 0., 0., 0., 0., 0., 0., 0.,\n",
              "       0., 0., 0., 0., 0., 0., 0., 0., 0., 0., 0., 0., 0., 0., 0., 0., 0.,\n",
              "       0., 0., 0., 0., 0., 0., 0., 0., 0., 0., 0., 0., 0., 0., 0., 0., 0.,\n",
              "       0., 0., 0., 1.])"
            ]
          },
          "metadata": {},
          "execution_count": 27
        }
      ]
    },
    {
      "cell_type": "code",
      "source": [
        "index"
      ],
      "metadata": {
        "colab": {
          "base_uri": "https://localhost:8080/"
        },
        "id": "D-IExYTYk-SU",
        "outputId": "4bb3ebd2-44ff-4019-d838-9e87554f2263"
      },
      "execution_count": 28,
      "outputs": [
        {
          "output_type": "execute_result",
          "data": {
            "text/plain": [
              "[71,\n",
              " 1,\n",
              " 2,\n",
              " 3,\n",
              " 4,\n",
              " 5,\n",
              " 6,\n",
              " 7,\n",
              " 8,\n",
              " 9,\n",
              " 10,\n",
              " 11,\n",
              " 12,\n",
              " 13,\n",
              " 14,\n",
              " 15,\n",
              " 16,\n",
              " 17,\n",
              " 18,\n",
              " 19,\n",
              " 20,\n",
              " 21,\n",
              " 22,\n",
              " 23,\n",
              " 24,\n",
              " 25,\n",
              " 26,\n",
              " 27,\n",
              " 28,\n",
              " 29,\n",
              " 30,\n",
              " 31,\n",
              " 32,\n",
              " 33,\n",
              " 34,\n",
              " 35,\n",
              " 36,\n",
              " 37,\n",
              " 38,\n",
              " 39,\n",
              " 40,\n",
              " 41,\n",
              " 42,\n",
              " 43,\n",
              " 44,\n",
              " 45,\n",
              " 46,\n",
              " 47,\n",
              " 48,\n",
              " 49,\n",
              " 50,\n",
              " 51,\n",
              " 52,\n",
              " 53,\n",
              " 54,\n",
              " 55,\n",
              " 56,\n",
              " 57,\n",
              " 58,\n",
              " 59,\n",
              " 60,\n",
              " 61,\n",
              " 62,\n",
              " 63,\n",
              " 64,\n",
              " 65,\n",
              " 66,\n",
              " 67,\n",
              " 68,\n",
              " 69,\n",
              " 70,\n",
              " 0]"
            ]
          },
          "metadata": {},
          "execution_count": 28
        }
      ]
    },
    {
      "cell_type": "code",
      "source": [
        "print('DocBot: I am Doctor Bot or DocBot for short. I will answer your queries about Chronic Kidney Disease. If you want to exit, type bye.')\n",
        "exit_list = ['exit', 'see you later', 'bye', 'quit', 'break']\n",
        "while(True):\n",
        "    user_input = input()\n",
        "    if user_input.lower() in exit_list:\n",
        "        print('DocBot: Chat with you later !')\n",
        "        break\n",
        "    else:\n",
        "        if greeting_response(user_input) != None:\n",
        "            print('DocBot: '+greeting_response(user_input))\n",
        "        else:\n",
        "            print('DocBot: '+bot_response(user_input))\n",
        ""
      ],
      "metadata": {
        "colab": {
          "base_uri": "https://localhost:8080/"
        },
        "id": "6pk6t91TllSU",
        "outputId": "15bab9db-ef1b-44df-9766-1d45530415e9"
      },
      "execution_count": 35,
      "outputs": [
        {
          "output_type": "stream",
          "name": "stdout",
          "text": [
            "DocBot: I am Doctor Bot or DocBot for short. I will answer your queries about Chronic Kidney Disease. If you want to exit, type bye.\n",
            "hi\n",
            "DocBot: hello\n",
            "hello\n",
            "DocBot: hello\n",
            "what is chronic kidney disease\n",
            "DocBot:  Chronic kidney disease is a disease characterized by progressive damage and loss of function in the kidneys. What is it? Diabetes is the most common cause of kidney disease.\n",
            "see you later\n",
            "DocBot: Chat with you later !\n"
          ]
        }
      ]
    }
  ]
}